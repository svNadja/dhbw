{
 "cells": [
  {
   "cell_type": "code",
   "id": "initial_id",
   "metadata": {
    "collapsed": true,
    "ExecuteTime": {
     "end_time": "2024-12-17T18:27:51.342842Z",
     "start_time": "2024-12-17T18:27:51.333254Z"
    }
   },
   "source": "print('hi')",
   "outputs": [
    {
     "name": "stdout",
     "output_type": "stream",
     "text": [
      "hi\n"
     ]
    }
   ],
   "execution_count": 1
  },
  {
   "metadata": {
    "ExecuteTime": {
     "end_time": "2024-12-17T18:27:51.093127Z",
     "start_time": "2024-12-17T18:27:51.086826Z"
    }
   },
   "cell_type": "code",
   "source": [
    "height = 10\n",
    "for i in range(height):\n",
    "    start = \"*\" * (2 * i - 1)\n",
    "    spaces = ' ' * (height - i)\n",
    "    print(spaces, start)\n",
    "    if i == 4 and i < height:\n",
    "        for i in range(-height, 0, -1):\n",
    "            print(i * '*')\n",
    "for i in range(2):\n",
    "    spaces = ' ' * (height - 6)\n",
    "    print(2*spaces,3* '*')\n",
    "\n",
    "#spaces = ' ' * (height - i - 1)\n",
    "print('\\n')\n",
    "for i in range(6,0, -1):\n",
    "    spaces = ' ' * (height - i)\n",
    "    print(spaces, i * '*')\n",
    "\n",
    "print('\\n')\n",
    "for i in range(1,7):\n",
    "    sterne_links = '*'*(i+1)\n",
    "    sterne_rechts = '*'*(i-1)\n",
    "    spaces = ' ' * (height - i-3)\n",
    "    print(spaces, sterne_links, spaces, sterne_rechts)\n",
    "    #tanneTanne\n",
    "\n"
   ],
   "id": "9a462b77e428ade0",
   "outputs": [],
   "execution_count": null
  },
  {
   "metadata": {},
   "cell_type": "code",
   "outputs": [],
   "execution_count": null,
   "source": "",
   "id": "78e23ad228177048"
  }
 ],
 "metadata": {
  "kernelspec": {
   "display_name": "Python 3",
   "language": "python",
   "name": "python3"
  },
  "language_info": {
   "codemirror_mode": {
    "name": "ipython",
    "version": 2
   },
   "file_extension": ".py",
   "mimetype": "text/x-python",
   "name": "python",
   "nbconvert_exporter": "python",
   "pygments_lexer": "ipython2",
   "version": "2.7.6"
  }
 },
 "nbformat": 4,
 "nbformat_minor": 5
}
